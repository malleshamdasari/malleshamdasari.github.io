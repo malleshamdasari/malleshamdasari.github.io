{
 "cells": [
  {
   "cell_type": "markdown",
   "id": "ed5bac05",
   "metadata": {},
   "source": [
    "# AutoEncoder on MNIST (PyTorch) — Beginner Friendly ✅\n",
    "\n",
    "This notebook trains a tiny **AutoEncoder** on the **MNIST** dataset, reconstructs digits, and prints the **compression ratio**. It’s written for beginners with lots of comments.\n",
    "\n",
    "**What you’ll see:**\n",
    "- A simple AutoEncoder model (fully-connected)\n",
    "- Training loop on MNIST\n",
    "- Reconstruction demo for one image\n",
    "- Compression ratio calculation\n",
    "- Clean visualizations\n",
    "\n",
    "> Tip: No GPU required. Runs on CPU just fine."
   ]
  },
  {
   "cell_type": "code",
   "execution_count": 1,
   "id": "186a4635",
   "metadata": {},
   "outputs": [
    {
     "name": "stdout",
     "output_type": "stream",
     "text": [
      "Using device: cpu\n"
     ]
    }
   ],
   "source": [
    "# 0) Setup: imports and device selection\n",
    "import torch\n",
    "from torch import nn\n",
    "from torchvision import datasets, transforms\n",
    "from torch.utils.data import DataLoader\n",
    "import matplotlib.pyplot as plt\n",
    "import numpy as np\n",
    "\n",
    "# Use GPU if available, otherwise CPU\n",
    "device = torch.device('cuda' if torch.cuda.is_available() else 'cpu')\n",
    "print('Using device:', device)\n"
   ]
  },
  {
   "cell_type": "markdown",
   "id": "1662d7f1",
   "metadata": {},
   "source": [
    "## 1) Define a Simple AutoEncoder\n",
    "We use a fully-connected (MLP) autoencoder:\n",
    "- **Encoder** compresses a 28×28 image (784 features) → 64-D latent vector.\n",
    "- **Decoder** reconstructs 64 → 784 (back to 28×28)."
   ]
  },
  {
   "cell_type": "code",
   "execution_count": 4,
   "id": "b4c4c746",
   "metadata": {},
   "outputs": [
    {
     "data": {
      "text/plain": [
       "AutoEncoder(\n",
       "  (encoder): Sequential(\n",
       "    (0): Flatten(start_dim=1, end_dim=-1)\n",
       "    (1): Linear(in_features=784, out_features=128, bias=True)\n",
       "    (2): ReLU()\n",
       "    (3): Linear(in_features=128, out_features=64, bias=True)\n",
       "  )\n",
       "  (decoder): Sequential(\n",
       "    (0): Linear(in_features=64, out_features=128, bias=True)\n",
       "    (1): ReLU()\n",
       "    (2): Linear(in_features=128, out_features=784, bias=True)\n",
       "    (3): Sigmoid()\n",
       "  )\n",
       ")"
      ]
     },
     "execution_count": 4,
     "metadata": {},
     "output_type": "execute_result"
    }
   ],
   "source": [
    "class AutoEncoder(nn.Module):\n",
    "    \"\"\"\n",
    "    A tiny fully-connected AutoEncoder for 28x28 grayscale images.\n",
    "    - Encoder: 784 -> 128 -> 64 (latent)\n",
    "    - Decoder: 64 -> 128 -> 784 -> reshape to (1,28,28)\n",
    "    \"\"\"\n",
    "    def __init__(self, latent_dim: int = 64):\n",
    "        super().__init__()\n",
    "        self.latent_dim = latent_dim\n",
    "        self.encoder = nn.Sequential(\n",
    "            nn.Flatten(),\n",
    "            nn.Linear(28*28, 128),\n",
    "            nn.ReLU(),\n",
    "            nn.Linear(128, latent_dim)\n",
    "        )\n",
    "        self.decoder = nn.Sequential(\n",
    "            nn.Linear(latent_dim, 128),\n",
    "            nn.ReLU(),\n",
    "            nn.Linear(128, 28*28),\n",
    "            nn.Sigmoid(),  # pixel values in [0,1]\n",
    "        )\n",
    "\n",
    "    def forward(self, x):\n",
    "        z = self.encoder(x)\n",
    "        x_hat = self.decoder(z)\n",
    "        x_hat = x_hat.view(-1, 1, 28, 28)  # reshape back to image\n",
    "        return x_hat\n",
    "\n",
    "model = AutoEncoder(latent_dim=64).to(device)\n",
    "model"
   ]
  },
  {
   "cell_type": "markdown",
   "id": "f1b2c52d",
   "metadata": {},
   "source": [
    "## 2) Load MNIST (handwritten digits)\n",
    "We normalize to `[0,1]` using `ToTensor()`. No fancy preprocessing needed."
   ]
  },
  {
   "cell_type": "code",
   "execution_count": 5,
   "id": "e4838e6e",
   "metadata": {},
   "outputs": [
    {
     "name": "stdout",
     "output_type": "stream",
     "text": [
      "Downloading http://yann.lecun.com/exdb/mnist/train-images-idx3-ubyte.gz\n",
      "Failed to download (trying next):\n",
      "HTTP Error 404: Not Found\n",
      "\n",
      "Downloading https://ossci-datasets.s3.amazonaws.com/mnist/train-images-idx3-ubyte.gz\n",
      "Downloading https://ossci-datasets.s3.amazonaws.com/mnist/train-images-idx3-ubyte.gz to data/MNIST/raw/train-images-idx3-ubyte.gz\n"
     ]
    },
    {
     "data": {
      "application/vnd.jupyter.widget-view+json": {
       "model_id": "918b63a570de4d47800d9f65b9846d9c",
       "version_major": 2,
       "version_minor": 0
      },
      "text/plain": [
       "  0%|          | 0/9912422 [00:00<?, ?it/s]"
      ]
     },
     "metadata": {},
     "output_type": "display_data"
    },
    {
     "name": "stdout",
     "output_type": "stream",
     "text": [
      "Extracting data/MNIST/raw/train-images-idx3-ubyte.gz to data/MNIST/raw\n",
      "\n",
      "Downloading http://yann.lecun.com/exdb/mnist/train-labels-idx1-ubyte.gz\n",
      "Failed to download (trying next):\n",
      "HTTP Error 404: Not Found\n",
      "\n",
      "Downloading https://ossci-datasets.s3.amazonaws.com/mnist/train-labels-idx1-ubyte.gz\n",
      "Downloading https://ossci-datasets.s3.amazonaws.com/mnist/train-labels-idx1-ubyte.gz to data/MNIST/raw/train-labels-idx1-ubyte.gz\n"
     ]
    },
    {
     "data": {
      "application/vnd.jupyter.widget-view+json": {
       "model_id": "67837d5c270845d18185d632b45bc825",
       "version_major": 2,
       "version_minor": 0
      },
      "text/plain": [
       "  0%|          | 0/28881 [00:00<?, ?it/s]"
      ]
     },
     "metadata": {},
     "output_type": "display_data"
    },
    {
     "name": "stdout",
     "output_type": "stream",
     "text": [
      "Extracting data/MNIST/raw/train-labels-idx1-ubyte.gz to data/MNIST/raw\n",
      "\n",
      "Downloading http://yann.lecun.com/exdb/mnist/t10k-images-idx3-ubyte.gz\n",
      "Failed to download (trying next):\n",
      "HTTP Error 404: Not Found\n",
      "\n",
      "Downloading https://ossci-datasets.s3.amazonaws.com/mnist/t10k-images-idx3-ubyte.gz\n",
      "Downloading https://ossci-datasets.s3.amazonaws.com/mnist/t10k-images-idx3-ubyte.gz to data/MNIST/raw/t10k-images-idx3-ubyte.gz\n"
     ]
    },
    {
     "data": {
      "application/vnd.jupyter.widget-view+json": {
       "model_id": "a5954336ddaa466e8dc70bdf56e14378",
       "version_major": 2,
       "version_minor": 0
      },
      "text/plain": [
       "  0%|          | 0/1648877 [00:00<?, ?it/s]"
      ]
     },
     "metadata": {},
     "output_type": "display_data"
    },
    {
     "name": "stdout",
     "output_type": "stream",
     "text": [
      "Extracting data/MNIST/raw/t10k-images-idx3-ubyte.gz to data/MNIST/raw\n",
      "\n",
      "Downloading http://yann.lecun.com/exdb/mnist/t10k-labels-idx1-ubyte.gz\n",
      "Failed to download (trying next):\n",
      "HTTP Error 404: Not Found\n",
      "\n",
      "Downloading https://ossci-datasets.s3.amazonaws.com/mnist/t10k-labels-idx1-ubyte.gz\n",
      "Downloading https://ossci-datasets.s3.amazonaws.com/mnist/t10k-labels-idx1-ubyte.gz to data/MNIST/raw/t10k-labels-idx1-ubyte.gz\n"
     ]
    },
    {
     "data": {
      "application/vnd.jupyter.widget-view+json": {
       "model_id": "9fb29ddf14ed48b1bf0823340b403503",
       "version_major": 2,
       "version_minor": 0
      },
      "text/plain": [
       "  0%|          | 0/4542 [00:00<?, ?it/s]"
      ]
     },
     "metadata": {},
     "output_type": "display_data"
    },
    {
     "name": "stdout",
     "output_type": "stream",
     "text": [
      "Extracting data/MNIST/raw/t10k-labels-idx1-ubyte.gz to data/MNIST/raw\n",
      "\n"
     ]
    },
    {
     "data": {
      "text/plain": [
       "(60000, 10000)"
      ]
     },
     "execution_count": 5,
     "metadata": {},
     "output_type": "execute_result"
    }
   ],
   "source": [
    "transform = transforms.ToTensor()\n",
    "train_data = datasets.MNIST(root='data', train=True, transform=transform, download=True)\n",
    "test_data  = datasets.MNIST(root='data', train=False, transform=transform, download=True)\n",
    "\n",
    "train_loader = DataLoader(train_data, batch_size=128, shuffle=True)\n",
    "test_loader  = DataLoader(test_data, batch_size=128, shuffle=False)\n",
    "\n",
    "len(train_data), len(test_data)"
   ]
  },
  {
   "cell_type": "markdown",
   "id": "2a1ac1fc",
   "metadata": {},
   "source": [
    "## 3) Loss and Optimizer\n",
    "- We use **Mean Squared Error (MSE)** between the input image and its reconstruction.\n",
    "- Adam optimizer with a small learning rate works well for beginners."
   ]
  },
  {
   "cell_type": "code",
   "execution_count": 6,
   "id": "bbf31748",
   "metadata": {},
   "outputs": [],
   "source": [
    "criterion = nn.MSELoss()\n",
    "optimizer = torch.optim.Adam(model.parameters(), lr=1e-2)\n"
   ]
  },
  {
   "cell_type": "markdown",
   "id": "0c825b9b",
   "metadata": {},
   "source": [
    "## 4) Train the AutoEncoder\n",
    "Short training (5 epochs) to keep things fast on CPU. Increase if you want better reconstructions."
   ]
  },
  {
   "cell_type": "code",
   "execution_count": 7,
   "id": "f5d85885",
   "metadata": {},
   "outputs": [
    {
     "name": "stdout",
     "output_type": "stream",
     "text": [
      "Epoch [1/5] - Train MSE: 0.0272\n",
      "Epoch [2/5] - Train MSE: 0.0112\n",
      "Epoch [3/5] - Train MSE: 0.0088\n",
      "Epoch [4/5] - Train MSE: 0.0078\n",
      "Epoch [5/5] - Train MSE: 0.0071\n"
     ]
    }
   ],
   "source": [
    "epochs = 5\n",
    "for epoch in range(1, epochs + 1):\n",
    "    model.train()\n",
    "    running_loss = 0.0\n",
    "    for images, _ in train_loader:\n",
    "        images = images.to(device)\n",
    "        outputs = model(images)\n",
    "        loss = criterion(outputs, images)\n",
    "\n",
    "        optimizer.zero_grad()\n",
    "        loss.backward()\n",
    "        optimizer.step()\n",
    "\n",
    "        running_loss += loss.item()\n",
    "\n",
    "    avg_loss = running_loss / len(train_loader)\n",
    "    print(f\"Epoch [{epoch}/{epochs}] - Train MSE: {avg_loss:.4f}\")\n"
   ]
  },
  {
   "cell_type": "markdown",
   "id": "956705e3",
   "metadata": {},
   "source": [
    "## 5) Encode & Decode One Sample + Compression Ratio\n",
    "We’ll take one test image, encode it to a 64-D vector, decode it back, then show side-by-side images and print the compression ratio:\n",
    "\n",
    "**Compression ratio = (input size) / (latent size).**\n",
    "Here: input size is 784 (28×28) and latent size is 64 → **12.25×**."
   ]
  },
  {
   "cell_type": "code",
   "execution_count": 9,
   "id": "f73f63c7",
   "metadata": {},
   "outputs": [
    {
     "name": "stdout",
     "output_type": "stream",
     "text": [
      "Compression Ratio: 12.25x (784 / 64)\n"
     ]
    },
    {
     "data": {
      "image/png": "[encoded data removed]",
      "text/plain": [
       "<Figure size 432x216 with 2 Axes>"
      ]
     },
     "metadata": {
      "needs_background": "light"
     },
     "output_type": "display_data"
    }
   ],
   "source": [
    "model.eval()\n",
    "with torch.no_grad():\n",
    "    sample_img, _ = test_data[0]\n",
    "    sample_img = sample_img.unsqueeze(0).to(device)  # (1,1,28,28)\n",
    "    z = model.encoder(sample_img)                    # latent (1,64)\n",
    "    recon = model.decoder(z).view(-1, 1, 28, 28)     # (1,1,28,28)\n",
    "\n",
    "    # Compute compression ratio\n",
    "    input_size = 28 * 28\n",
    "    latent_size = model.latent_dim\n",
    "    compression_ratio = input_size / latent_size\n",
    "    print(f\"Compression Ratio: {compression_ratio:.2f}x (784 / {latent_size})\")\n",
    "\n",
    "    # Move to CPU for plotting\n",
    "    orig = sample_img.squeeze().detach().cpu().numpy()\n",
    "    rec  = recon.squeeze().detach().cpu().numpy()\n",
    "\n",
    "plt.figure(figsize=(6,3))\n",
    "plt.subplot(1,2,1)\n",
    "plt.imshow(orig, cmap='gray')\n",
    "plt.title('Original')\n",
    "plt.axis('off')\n",
    "\n",
    "plt.subplot(1,2,2)\n",
    "plt.imshow(rec, cmap='gray')\n",
    "plt.title('Reconstructed')\n",
    "plt.axis('off')\n",
    "plt.show()\n"
   ]
  },
  {
   "cell_type": "markdown",
   "id": "41e092c3",
   "metadata": {},
   "source": [
    "## 6) (Optional) Save & Load the Trained Model\n",
    "You can save the trained weights and reload later."
   ]
  },
  {
   "cell_type": "code",
   "execution_count": null,
   "id": "1776bc2c",
   "metadata": {},
   "outputs": [],
   "source": [
    "save_path = 'autoencoder_mnist.pt'\n",
    "torch.save(model.state_dict(), save_path)\n",
    "print('Saved to', save_path)\n",
    "\n",
    "# To load later:\n",
    "loaded = AutoEncoder(latent_dim=64).to(device)\n",
    "loaded.load_state_dict(torch.load(save_path, map_location=device))\n",
    "loaded.eval()\n",
    "print('Reloaded model ready!')\n"
   ]
  },
  {
   "cell_type": "markdown",
   "id": "6b0e64c8",
   "metadata": {},
   "source": [
    "## Notes & Next Steps\n",
    "- Try changing `latent_dim` (e.g., 32 or 128) to see compression-quality tradeoffs.\n",
    "- Increase `epochs` for better reconstructions.\n",
    "- Replace the MLP with a **convolutional autoencoder** for sharper images."
   ]
  }
 ],
 "metadata": {
  "created": "2025-10-08T20:00:46.230569Z",
  "kernelspec": {
   "display_name": "Python 3 (ipykernel)",
   "language": "python",
   "name": "python3"
  },
  "language_info": {
   "codemirror_mode": {
    "name": "ipython",
    "version": 3
   },
   "file_extension": ".py",
   "mimetype": "text/x-python",
   "name": "python",
   "nbconvert_exporter": "python",
   "pygments_lexer": "ipython3",
   "version": "3.9.18"
  }
 },
 "nbformat": 4,
 "nbformat_minor": 5
}
